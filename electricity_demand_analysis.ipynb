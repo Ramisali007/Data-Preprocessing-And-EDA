{
 "cells": [
  {
   "cell_type": "code",
   "execution_count": null,
   "id": "13f54f9b",
   "metadata": {},
   "outputs": [],
   "source": [
    "\n",
    "!pip install pandas numpy matplotlib seaborn scikit-learn rich\n",
    "    "
   ]
  },
  {
   "cell_type": "code",
   "execution_count": null,
   "id": "049303c6",
   "metadata": {},
   "outputs": [],
   "source": [
    "\n",
    "import os\n",
    "import pandas as pd\n",
    "import glob\n",
    "import json\n",
    "import matplotlib.pyplot as plt\n",
    "import seaborn as sns\n",
    "from rich.console import Console\n",
    "from rich.table import Table\n",
    "from rich.progress import track\n",
    "from sklearn.model_selection import train_test_split\n",
    "from sklearn.linear_model import LinearRegression\n",
    "from sklearn.metrics import mean_squared_error, r2_score\n",
    "\n",
    "# Initialize Rich Console for Beautiful Output\n",
    "console = Console()\n",
    "    "
   ]
  },
  {
   "cell_type": "markdown",
   "id": "a8c9e173",
   "metadata": {},
   "source": [
    "## Step 1: Loading and Merging Data"
   ]
  },
  {
   "cell_type": "code",
   "execution_count": null,
   "id": "5f0047e8",
   "metadata": {},
   "outputs": [],
   "source": [
    "\n",
    "# Define base folder paths\n",
    "base_path = r\"D:\\Data Science\\Assignments\\Data Science Assignment 3\"\n",
    "electricity_folder = os.path.join(base_path, \"electricity_raw_data\")\n",
    "weather_folder = os.path.join(base_path, \"weather_raw_data\")\n",
    "\n",
    "# Load electricity JSON files\n",
    "console.print(\"[yellow]Loading Electricity Data...[/yellow]\")\n",
    "electricity_files = glob.glob(os.path.join(electricity_folder, \"*.json\"))\n",
    "electricity_dataframes = []\n",
    "\n",
    "for file in track(electricity_files, description=\"Processing electricity data...\"):\n",
    "    if os.path.getsize(file) > 0:  \n",
    "        try:\n",
    "            with open(file, \"r\", encoding=\"utf-8\") as f:\n",
    "                data = json.load(f)\n",
    "        except UnicodeDecodeError:\n",
    "            try:\n",
    "                with open(file, \"r\", encoding=\"utf-16\") as f:\n",
    "                    data = json.load(f)\n",
    "            except Exception as e:\n",
    "                console.print(f\"[red]❌ Skipping {file} due to encoding error: {e}[/red]\")\n",
    "                continue \n",
    "        \n",
    "        # Extract electricity demand data\n",
    "        if \"response\" in data and \"data\" in data[\"response\"]:\n",
    "            extracted_data = pd.DataFrame(data[\"response\"][\"data\"])[['period', 'value']]\n",
    "            extracted_data.rename(columns={'period': 'timestamp', 'value': 'electricity_demand'}, inplace=True)\n",
    "            extracted_data['timestamp'] = pd.to_datetime(extracted_data['timestamp'], errors='coerce')\n",
    "            extracted_data['electricity_demand'] = pd.to_numeric(extracted_data['electricity_demand'], errors='coerce')\n",
    "            extracted_data = extracted_data.groupby('timestamp', as_index=False).sum()\n",
    "            electricity_dataframes.append(extracted_data)\n",
    "\n",
    "electricity_df = pd.concat(electricity_dataframes, ignore_index=True) if electricity_dataframes else pd.DataFrame()\n",
    "electricity_df.dropna(subset=['timestamp'], inplace=True)\n",
    "electricity_df['timestamp'] = electricity_df['timestamp'].dt.tz_localize('UTC')\n",
    "\n",
    "console.print(\"[green]✅ Electricity Data Processed Successfully![/green]\")\n",
    "\n",
    "# Load weather CSV files\n",
    "console.print(\"[yellow]Loading Weather Data...[/yellow]\")\n",
    "weather_files = glob.glob(os.path.join(weather_folder, \"*.csv\"))\n",
    "weather_dataframes = [pd.read_csv(file, encoding=\"utf-8\") for file in weather_files if os.path.getsize(file) > 0]\n",
    "weather_df = pd.concat(weather_dataframes, ignore_index=True) if weather_dataframes else pd.DataFrame()\n",
    "\n",
    "# Rename and convert timestamp column\n",
    "weather_df.rename(columns={'date': 'timestamp'}, inplace=True)\n",
    "weather_df['timestamp'] = pd.to_datetime(weather_df['timestamp'], errors='coerce')\n",
    "weather_df.dropna(subset=['timestamp'], inplace=True)\n",
    "weather_df['timestamp'] = weather_df['timestamp'].dt.tz_convert('UTC')\n",
    "\n",
    "console.print(\"[green]✅ Weather Data Processed Successfully![/green]\")\n",
    "\n",
    "# Merge datasets on 'timestamp'\n",
    "merged_df = pd.merge(electricity_df, weather_df, on=\"timestamp\", how=\"inner\")\n",
    "\n",
    "if 'electricity_demand' not in merged_df.columns:\n",
    "    console.print(\"[red]❌ ERROR: 'electricity_demand' column is missing![/red]\")\n",
    "    exit()\n",
    "\n",
    "console.print(\"[cyan]✅ Data Merged Successfully![/cyan]\")\n",
    "    "
   ]
  },
  {
   "cell_type": "markdown",
   "id": "fae9b289",
   "metadata": {},
   "source": [
    "## Step 2: Data Preprocessing"
   ]
  },
  {
   "cell_type": "code",
   "execution_count": null,
   "id": "517b6399",
   "metadata": {},
   "outputs": [],
   "source": [
    "\n",
    "merged_df.ffill(inplace=True)\n",
    "merged_df.drop_duplicates(inplace=True)\n",
    "\n",
    "# Extract useful time-based features\n",
    "merged_df['hour'] = merged_df['timestamp'].dt.hour\n",
    "merged_df['day'] = merged_df['timestamp'].dt.day\n",
    "merged_df['month'] = merged_df['timestamp'].dt.month\n",
    "merged_df['day_of_week'] = merged_df['timestamp'].dt.dayofweek\n",
    "\n",
    "console.print(\"[green]✅ Data Preprocessed Successfully![/green]\")\n",
    "    "
   ]
  },
  {
   "cell_type": "markdown",
   "id": "54aa7924",
   "metadata": {},
   "source": [
    "## Step 3: Exploratory Data Analysis (EDA)"
   ]
  },
  {
   "cell_type": "code",
   "execution_count": null,
   "id": "12733f37",
   "metadata": {},
   "outputs": [],
   "source": [
    "\n",
    "# Electricity Demand Over Time Plot\n",
    "plt.figure(figsize=(10,5))\n",
    "plt.plot(merged_df['timestamp'], merged_df['electricity_demand'], label=\"Electricity Demand\", color=\"blue\")\n",
    "plt.xlabel('Time')\n",
    "plt.ylabel('Electricity Demand')\n",
    "plt.title('Electricity Demand Over Time')\n",
    "plt.xticks(rotation=45)\n",
    "plt.legend()\n",
    "plt.show()\n",
    "\n",
    "# Correlation Heatmap\n",
    "plt.figure(figsize=(8,6))\n",
    "sns.heatmap(merged_df.corr(), annot=True, cmap=\"coolwarm\", linewidths=0.5)\n",
    "plt.title(\"Feature Correlation\")\n",
    "plt.show()\n",
    "\n",
    "console.print(\"[green]✅ EDA Completed Successfully![/green]\")\n",
    "    "
   ]
  },
  {
   "cell_type": "markdown",
   "id": "ac66714c",
   "metadata": {},
   "source": [
    "## Step 4: Regression Modeling"
   ]
  },
  {
   "cell_type": "code",
   "execution_count": null,
   "id": "4adff7f9",
   "metadata": {},
   "outputs": [],
   "source": [
    "\n",
    "X = merged_df[['hour', 'day', 'month', 'temperature_2m']]\n",
    "y = merged_df['electricity_demand']\n",
    "\n",
    "X_train, X_test, y_train, y_test = train_test_split(X, y, test_size=0.2, random_state=42)\n",
    "model = LinearRegression()\n",
    "model.fit(X_train, y_train)\n",
    "\n",
    "y_pred = model.predict(X_test)\n",
    "\n",
    "mse = mean_squared_error(y_test, y_pred)\n",
    "rmse = mse ** 0.5\n",
    "r2 = r2_score(y_test, y_pred)\n",
    "\n",
    "console.print(f\"✅ MSE: {mse:.2f}\")\n",
    "console.print(f\"✅ RMSE: {rmse:.2f}\")\n",
    "console.print(f\"✅ R² Score: {r2:.4f}\")\n",
    "    "
   ]
  },
  {
   "cell_type": "markdown",
   "id": "b368c0e2",
   "metadata": {},
   "source": [
    "## Step 5: Save Processed Data"
   ]
  },
  {
   "cell_type": "code",
   "execution_count": null,
   "id": "fc9bf054",
   "metadata": {},
   "outputs": [],
   "source": [
    "\n",
    "merged_df.to_csv(\"processed_electricity_weather_data.csv\", index=False)\n",
    "console.print(\"[bold green]✅ Assignment Completed Successfully![/bold green]\")\n",
    "    "
   ]
  }
 ],
 "metadata": {},
 "nbformat": 4,
 "nbformat_minor": 5
}
